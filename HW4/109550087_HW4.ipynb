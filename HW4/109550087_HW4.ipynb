{
  "cells": [
    {
      "cell_type": "code",
      "execution_count": null,
      "metadata": {
        "id": "-t_3JLG0qisT"
      },
      "outputs": [],
      "source": [
        "import numpy as np\n",
        "import pandas as pd\n",
        "from sklearn.svm import SVC, SVR\n",
        "from sklearn.metrics import accuracy_score"
      ]
    },
    {
      "cell_type": "markdown",
      "metadata": {
        "id": "wDvcDnfvqisY"
      },
      "source": [
        "## Load data"
      ]
    },
    {
      "cell_type": "code",
      "source": [
        "from google.colab import drive\n",
        "drive.mount('/content/drive')"
      ],
      "metadata": {
        "id": "Olm3_fwDsBbC",
        "colab": {
          "base_uri": "https://localhost:8080/"
        },
        "outputId": "77b60c4d-63e5-4a95-8b05-ab21fd788ea8"
      },
      "execution_count": null,
      "outputs": [
        {
          "output_type": "stream",
          "name": "stdout",
          "text": [
            "Mounted at /content/drive\n"
          ]
        }
      ]
    },
    {
      "cell_type": "code",
      "execution_count": null,
      "metadata": {
        "id": "85dyaxGRqisb"
      },
      "outputs": [],
      "source": [
        "x_train = np.load(\"/content/drive/MyDrive/ML/HW4/x_train.npy\")\n",
        "y_train = np.load(\"/content/drive/MyDrive/ML/HW4/y_train.npy\")\n",
        "x_test = np.load(\"/content/drive/MyDrive/ML/HW4/x_test.npy\")\n",
        "# y_test = np.load(\"y_test.npy\")"
      ]
    },
    {
      "cell_type": "code",
      "execution_count": null,
      "metadata": {
        "id": "bMp0UPiDqisc",
        "outputId": "992f112a-ed7c-4a4e-ccc6-4e77710fb913",
        "colab": {
          "base_uri": "https://localhost:8080/"
        }
      },
      "outputs": [
        {
          "output_type": "stream",
          "name": "stdout",
          "text": [
            "(7000, 300)\n"
          ]
        }
      ],
      "source": [
        "# 7000 data with 300 features\n",
        "print(x_train.shape)"
      ]
    },
    {
      "cell_type": "code",
      "execution_count": null,
      "metadata": {
        "id": "kkzBLB65qise",
        "outputId": "9282ff78-7428-4899-b194-5b929f5929ae",
        "colab": {
          "base_uri": "https://localhost:8080/"
        }
      },
      "outputs": [
        {
          "output_type": "stream",
          "name": "stdout",
          "text": [
            "[0 1]\n"
          ]
        }
      ],
      "source": [
        "# It's a binary classification problem \n",
        "print(np.unique(y_train))"
      ]
    },
    {
      "cell_type": "markdown",
      "metadata": {
        "id": "6MGfmmEfqisf"
      },
      "source": [
        "## Question 1\n",
        "K-fold data partition: Implement the K-fold cross-validation function. Your function should take K as an argument and return a list of lists (len(list) should equal to K), which contains K elements. Each element is a list contains two parts, the first part contains the index of all training folds, e.g. Fold 2 to Fold 5 in split 1. The second part contains the index of validation fold, e.g. Fold 1 in  split 1"
      ]
    },
    {
      "cell_type": "code",
      "source": [
        "seed = 10\n",
        "\n",
        "def cross_validation(x_train, y_train, k=5):\n",
        "  n_samples = x_train.shape[0]\n",
        "  n_splits = k\n",
        "  indices = np.arange(n_samples)\n",
        "  np.random.seed(seed)\n",
        "  np.random.shuffle(indices)\n",
        "  print(indices)\n",
        "\n",
        "  fold_sizes = (n_samples // n_splits) * np.ones(n_splits, dtype=np.int)\n",
        "  fold_sizes[:n_samples % n_splits] += 1\n",
        "  # print(fold_sizes)\n",
        "  idx = []\n",
        "  current = 0\n",
        "  for fold_size in fold_sizes:\n",
        "    start, stop = current, current + fold_size\n",
        "    train_idx = np.concatenate([indices[:start], indices[stop:]])\n",
        "    val_idx = indices[start:stop]\n",
        "    idx.append([train_idx, val_idx])\n",
        "    current = stop\n",
        "  \n",
        "  return idx\n",
        "\n",
        "# print(cross_validation(x_train, y_train, k=10))"
      ],
      "metadata": {
        "id": "jj8jHhHizcLH"
      },
      "execution_count": null,
      "outputs": []
    },
    {
      "cell_type": "code",
      "execution_count": null,
      "metadata": {
        "id": "pUK0ulZtqish"
      },
      "outputs": [],
      "source": [
        "kfold_data = cross_validation(x_train, y_train, k=10)\n",
        "assert len(kfold_data) == 10 # should contain 10 fold of data\n",
        "assert len(kfold_data[0]) == 2 # each element should contain train fold and validation fold\n",
        "assert kfold_data[0][1].shape[0] == 700 # The number of data in each validation fold should equal to training data divieded by K"
      ]
    },
    {
      "cell_type": "markdown",
      "metadata": {
        "id": "mA0x5e-6qisi"
      },
      "source": [
        "## example"
      ]
    },
    {
      "cell_type": "code",
      "execution_count": null,
      "metadata": {
        "id": "ZbBEhaIVqisk",
        "outputId": "7c6b3d46-5494-48ad-b8a3-517ff58ff513",
        "colab": {
          "base_uri": "https://localhost:8080/"
        }
      },
      "outputs": [
        {
          "output_type": "stream",
          "name": "stdout",
          "text": [
            "Split: 1, Training index: [ 1  2  3  4  5  6  7  8  9 10 12 13 14 15 17 19], Validation index: [ 0 11 16 18]\n",
            "Split: 2, Training index: [ 0  1  2  3  4  5  6  7  8 10 11 13 15 16 17 18], Validation index: [ 9 12 14 19]\n",
            "Split: 3, Training index: [ 0  1  2  4  5  7  9 11 12 13 14 15 16 17 18 19], Validation index: [ 3  6  8 10]\n",
            "Split: 4, Training index: [ 0  1  2  3  5  6  8  9 10 11 12 13 14 16 18 19], Validation index: [ 4  7 15 17]\n",
            "Split: 5, Training index: [ 0  3  4  6  7  8  9 10 11 12 14 15 16 17 18 19], Validation index: [ 1  2  5 13]\n"
          ]
        }
      ],
      "source": [
        "from sklearn.model_selection import KFold\n",
        "\n",
        "X = np.arange(20)\n",
        "kf = KFold(n_splits=5, shuffle=True)\n",
        "kfold_data= []\n",
        "for i, (train_index, val_index) in enumerate(kf.split(X)):\n",
        "    print(\"Split: %s, Training index: %s, Validation index: %s\" % (i+1, train_index, val_index))\n",
        "    kfold_data.append([train_index, val_index])"
      ]
    },
    {
      "cell_type": "code",
      "execution_count": null,
      "metadata": {
        "id": "ruj-iO2yqisl"
      },
      "outputs": [],
      "source": [
        "assert len(kfold_data) == 5 # should contain 5 fold of data\n",
        "assert len(kfold_data[0]) == 2 # each element should contains index of training fold and validation fold\n",
        "assert kfold_data[0][1].shape[0] == 4 # The number of data in each validation fold should equal to training data divieded by K"
      ]
    },
    {
      "cell_type": "markdown",
      "metadata": {
        "id": "VECDrFvNqism"
      },
      "source": [
        "## Question 2\n",
        "Using sklearn.svm.SVC to train a classifier on the provided train set and conduct the grid search of “C” and “gamma” to find the best parameters by cross-validation."
      ]
    },
    {
      "cell_type": "code",
      "source": [
        "kfold_data = cross_validation(x_train, y_train, k=5)"
      ],
      "metadata": {
        "colab": {
          "base_uri": "https://localhost:8080/"
        },
        "id": "2IDdZs18pp3H",
        "outputId": "b3c0e61d-86f7-4a31-baa8-a81172a81926"
      },
      "execution_count": null,
      "outputs": [
        {
          "output_type": "stream",
          "name": "stdout",
          "text": [
            "[ 149 5282 6571 ... 1344 4623 1289]\n"
          ]
        },
        {
          "output_type": "stream",
          "name": "stderr",
          "text": [
            "/usr/local/lib/python3.7/dist-packages/ipykernel_launcher.py:11: DeprecationWarning: `np.int` is a deprecated alias for the builtin `int`. To silence this warning, use `int` by itself. Doing this will not modify any behavior and is safe. When replacing `np.int`, you may wish to use e.g. `np.int64` or `np.int32` to specify the precision. If you wish to review your current use, check the release note link for additional information.\n",
            "Deprecated in NumPy 1.20; for more details and guidance: https://numpy.org/devdocs/release/1.20.0-notes.html#deprecations\n",
            "  # This is added back by InteractiveShellApp.init_path()\n"
          ]
        }
      ]
    },
    {
      "cell_type": "code",
      "execution_count": null,
      "metadata": {
        "id": "Es7OgdSwqiso",
        "colab": {
          "base_uri": "https://localhost:8080/"
        },
        "outputId": "539cf7c1-6a58-441c-97ee-a13595154560"
      },
      "outputs": [
        {
          "output_type": "stream",
          "name": "stdout",
          "text": [
            "C: 0.01, gamma: 0.0001, acc: 0.4914285714285714\n",
            "C: 0.01, gamma: 0.001, acc: 0.4914285714285714\n",
            "C: 0.01, gamma: 0.01, acc: 0.4914285714285714\n",
            "C: 0.01, gamma: 1, acc: 0.4914285714285714\n",
            "C: 0.01, gamma: 10, acc: 0.4914285714285714\n",
            "C: 0.1, gamma: 0.0001, acc: 0.9741428571428571\n",
            "C: 0.1, gamma: 0.001, acc: 0.4914285714285714\n",
            "C: 0.1, gamma: 0.01, acc: 0.4914285714285714\n",
            "C: 0.1, gamma: 1, acc: 0.4914285714285714\n",
            "C: 0.1, gamma: 10, acc: 0.4914285714285714\n",
            "C: 1, gamma: 0.0001, acc: 0.9934285714285714\n",
            "C: 1, gamma: 0.001, acc: 0.4914285714285714\n",
            "C: 1, gamma: 0.01, acc: 0.4914285714285714\n",
            "C: 1, gamma: 1, acc: 0.4914285714285714\n",
            "C: 1, gamma: 10, acc: 0.4914285714285714\n",
            "C: 10, gamma: 0.0001, acc: 0.9934285714285714\n",
            "C: 10, gamma: 0.001, acc: 0.4914285714285714\n",
            "C: 10, gamma: 0.01, acc: 0.4914285714285714\n",
            "C: 10, gamma: 1, acc: 0.4914285714285714\n",
            "C: 10, gamma: 10, acc: 0.4914285714285714\n",
            "C: 100, gamma: 0.0001, acc: 0.9934285714285714\n",
            "C: 100, gamma: 0.001, acc: 0.4914285714285714\n",
            "C: 100, gamma: 0.01, acc: 0.4914285714285714\n",
            "C: 100, gamma: 1, acc: 0.4914285714285714\n",
            "C: 100, gamma: 10, acc: 0.4914285714285714\n"
          ]
        }
      ],
      "source": [
        "## your code\n",
        "_c = [0.01, 0.1, 1, 10, 100]\n",
        "_gamma = [0.0001, 0.001, 0.01, 1, 10]\n",
        "\n",
        "classifiers = []\n",
        "best_score = 0\n",
        "scores = []\n",
        "\n",
        "for c in _c:\n",
        "  temp = []\n",
        "  for g in _gamma:\n",
        "    total = 0\n",
        "    score = 0\n",
        "    for train_idx, val_idx in kfold_data:\n",
        "      # print(train_idx.shape, val_idx.shape)\n",
        "      clf = SVC(C=c, kernel='rbf', gamma=g)\n",
        "      clf.fit(x_train[train_idx], y_train[train_idx])\n",
        "      y_pred = clf.predict(x_train[val_idx])\n",
        "      total += accuracy_score(y_train[val_idx], y_pred)\n",
        "\n",
        "    classifiers.append((clf, c, g))\n",
        "    score = total / len(kfold_data)\n",
        "    temp.append(score)\n",
        "\n",
        "    # print(f'C: {c}, gamma: {g}, acc: {score}')\n",
        "    if score > best_score:\n",
        "      best_score = score\n",
        "      best_parameters = [c, g]\n",
        "  \n",
        "  scores.append(temp)"
      ]
    },
    {
      "cell_type": "code",
      "execution_count": null,
      "metadata": {
        "id": "660QiL49qisp",
        "colab": {
          "base_uri": "https://localhost:8080/"
        },
        "outputId": "13bd205c-c844-4ad1-b75a-ab4441500b29"
      },
      "outputs": [
        {
          "output_type": "stream",
          "name": "stdout",
          "text": [
            "[1, 0.0001]\n"
          ]
        }
      ],
      "source": [
        "print(best_parameters)"
      ]
    },
    {
      "cell_type": "markdown",
      "metadata": {
        "id": "n-izNNCOqisp"
      },
      "source": [
        "## Question 3\n",
        "Plot the grid search results of your SVM. The x, y represents the hyperparameters of “gamma” and “C”, respectively. And the color represents the average score of validation folds\n",
        "You reults should be look like this reference image below ![image](https://miro.medium.com/max/1296/1*wGWTup9r4cVytB5MOnsjdQ.png) "
      ]
    },
    {
      "cell_type": "code",
      "source": [
        "import matplotlib.pyplot as plt\n",
        "import seaborn as sns"
      ],
      "metadata": {
        "id": "LgbmcC6fv0Du"
      },
      "execution_count": null,
      "outputs": []
    },
    {
      "cell_type": "code",
      "source": [
        "print(scores)"
      ],
      "metadata": {
        "colab": {
          "base_uri": "https://localhost:8080/"
        },
        "id": "PtTAGlzvdW50",
        "outputId": "c2cb6ce1-093f-4b19-e64a-a1106cf1b24b"
      },
      "execution_count": null,
      "outputs": [
        {
          "output_type": "stream",
          "name": "stdout",
          "text": [
            "[[0.4914285714285714, 0.4914285714285714, 0.4914285714285714, 0.4914285714285714, 0.4914285714285714], [0.9741428571428571, 0.4914285714285714, 0.4914285714285714, 0.4914285714285714, 0.4914285714285714], [0.9934285714285714, 0.4914285714285714, 0.4914285714285714, 0.4914285714285714, 0.4914285714285714], [0.9934285714285714, 0.4914285714285714, 0.4914285714285714, 0.4914285714285714, 0.4914285714285714], [0.9934285714285714, 0.4914285714285714, 0.4914285714285714, 0.4914285714285714, 0.4914285714285714]]\n"
          ]
        }
      ]
    },
    {
      "cell_type": "code",
      "source": [
        "# plt.figure(figsize=(15, 10))\n",
        "sns.heatmap(scores,\n",
        "      annot=True,\n",
        "      xticklabels=_gamma,\n",
        "      yticklabels=_c,\n",
        "      linewidths=1.0,\n",
        "      cmap='RdBu',\n",
        "      cbar=True)\n",
        "plt.xlabel(\"Gamma Parameter\")\n",
        "plt.ylabel(\"C Parameter\")\n",
        "plt.title(\"Hyperparameter Gridsearch\")\n",
        "plt.show()"
      ],
      "metadata": {
        "colab": {
          "base_uri": "https://localhost:8080/",
          "height": 295
        },
        "id": "wp6tlL4OpMOr",
        "outputId": "3b59a5a5-40ef-4452-b746-25a9a9c1beb6"
      },
      "execution_count": null,
      "outputs": [
        {
          "output_type": "display_data",
          "data": {
            "text/plain": [
              "<Figure size 432x288 with 2 Axes>"
            ],
            "image/png": "[encoded data removed]"
          },
          "metadata": {
            "needs_background": "light"
          }
        }
      ]
    },
    {
      "cell_type": "markdown",
      "metadata": {
        "id": "Y0nv-Zayqisr"
      },
      "source": [
        "## Question 4\n",
        "Train your SVM model by the best parameters you found from question 2 on the whole training set and evaluate the performance on the test set."
      ]
    },
    {
      "cell_type": "code",
      "execution_count": null,
      "metadata": {
        "id": "suw727Bnqisr",
        "colab": {
          "base_uri": "https://localhost:8080/"
        },
        "outputId": "699cd35b-ecdf-413e-e1a3-cf0fa54167ac"
      },
      "outputs": [
        {
          "output_type": "stream",
          "name": "stdout",
          "text": [
            "1 0.0001\n"
          ]
        },
        {
          "output_type": "execute_result",
          "data": {
            "text/plain": [
              "SVC(C=1, gamma=0.0001)"
            ]
          },
          "metadata": {},
          "execution_count": 97
        }
      ],
      "source": [
        "C, gamma = best_parameters\n",
        "print(C, gamma)\n",
        "best_model = SVC(C=C, kernel='rbf', gamma=gamma)\n",
        "best_model.fit(x_train, y_train)"
      ]
    },
    {
      "cell_type": "code",
      "source": [
        "y_pred = best_model.predict(x_test)\n",
        "print(\"Accuracy score: \", accuracy_score(y_pred, y_test))"
      ],
      "metadata": {
        "id": "YmvAU7A-2W6L"
      },
      "execution_count": null,
      "outputs": []
    }
  ],
  "metadata": {
    "kernelspec": {
      "display_name": "Python 3 (ipykernel)",
      "language": "python",
      "name": "python3"
    },
    "language_info": {
      "codemirror_mode": {
        "name": "ipython",
        "version": 3
      },
      "file_extension": ".py",
      "mimetype": "text/x-python",
      "name": "python",
      "nbconvert_exporter": "python",
      "pygments_lexer": "ipython3",
      "version": "3.10.8"
    },
    "colab": {
      "provenance": []
    }
  },
  "nbformat": 4,
  "nbformat_minor": 0
}